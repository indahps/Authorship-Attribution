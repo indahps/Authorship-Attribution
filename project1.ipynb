{
 "cells": [
  {
   "cell_type": "code",
   "execution_count": 55,
   "metadata": {},
   "outputs": [],
   "source": [
    "import os\n",
    "import pandas as pd\n",
    "import nltk\n",
    "import re\n",
    "from nltk.tokenize import word_tokenize\n",
    "from nltk.tag import pos_tag\n",
    "from nltk.chunk import ne_chunk\n",
    "from nltk.corpus import stopwords\n",
    "from nltk.chunk import conlltags2tree, tree2conlltags\n",
    "from collections import defaultdict\n",
    "from collections import Counter\n",
    "from sklearn.feature_extraction import DictVectorizer\n",
    "from sklearn.feature_extraction.text import CountVectorizer\n",
    "from sklearn.metrics.pairwise import cosine_similarity\n",
    "from sklearn.model_selection import train_test_split\n",
    "from sklearn.neighbors import KNeighborsClassifier\n",
    "from sklearn.tree import DecisionTreeClassifier\n",
    "from sklearn.ensemble import RandomForestClassifier\n",
    "from sklearn.naive_bayes import MultinomialNB\n",
    "from sklearn.svm import LinearSVC\n",
    "from sklearn.naive_bayes import MultinomialNB\n",
    "from sklearn.metrics import accuracy_score, classification_report\n",
    "from sklearn.linear_model import LogisticRegression\n",
    "from sklearn.neural_network import MLPClassifier\n",
    "from imblearn.over_sampling import RandomOverSampler\n",
    "from imblearn.under_sampling import RandomUnderSampler\n",
    "lemmatizer = nltk.stem.wordnet.WordNetLemmatizer()"
   ]
  },
  {
   "cell_type": "code",
   "execution_count": 4,
   "metadata": {},
   "outputs": [],
   "source": [
    "path = \"train_tweets.txt\"\n",
    "df = pd.read_csv(path,delimiter=\"\\t\", header = None)\n",
    "df.rename(columns={0:'id',1:'tweet'},inplace=True)"
   ]
  },
  {
   "cell_type": "markdown",
   "metadata": {},
   "source": [
    "<h3> Derive Features </h3>"
   ]
  },
  {
   "cell_type": "code",
   "execution_count": 5,
   "metadata": {},
   "outputs": [],
   "source": [
    "df['mention'] = df.apply(lambda row: 1 if '@handle' in row.tweet else 0, axis = 1)\n",
    "df['retweet'] = df.apply(lambda row: 1 if row.tweet[0:2] == 'RT' else 0, axis = 1)\n",
    "df['http'] = df.apply(lambda row: 1 if re.findall('https?:\\/\\/.*[\\r\\n]*',row.tweet) != [] else 0, axis = 1)\n",
    "df['len_char'] = df.apply(lambda row: len(row.tweet), axis = 1)\n",
    "df['len_words'] = df.apply(lambda row: len(row.tweet.split()), axis = 1)\n",
    "df['unique_words'] = df.apply(lambda row: len(set(row.tweet.lower().split())), axis = 1)\n",
    "df['num_dots'] = df.apply(lambda row: len(re.findall('\\.',row.tweet)), axis = 1)\n",
    "df['num_comma'] = df.apply(lambda row: len(re.findall(',',row.tweet)), axis = 1)\n",
    "df['num_exclamation'] = df.apply(lambda row: len(re.findall('!',row.tweet)), axis = 1)\n",
    "df['num_colon'] = df.apply(lambda row: len(re.findall(':',row.tweet)), axis = 1)\n",
    "df['num_semicolon'] = df.apply(lambda row: len(re.findall(';',row.tweet)), axis = 1)\n",
    "df['num_question'] = df.apply(lambda row: len(re.findall('\\?',row.tweet)), axis = 1)\n",
    "df['num_capital'] = df.apply(lambda row: len(re.findall('[A-Z]',row.tweet)), axis = 1)\n",
    "df['num_hashtag'] = df.apply(lambda row: len(re.findall('#(.)+',row.tweet)), axis = 1)\n",
    "df['num_stopwords'] = df.apply(lambda row: len([w for w in row.tweet.lower().split() if w in stopwords.words('english')]), axis = 1)\n",
    "df['pos_tag'] = df.apply(lambda row: [tag[1] for tag in nltk.pos_tag(nltk.word_tokenize(row.tweet))], axis = 1)\n",
    "df['num_pos'] = df.apply(lambda row: len(set(row.pos_tag)), axis = 1)\n",
    "df['num_noun'] = df.apply(lambda row: len([tag for tag in row.pos_tag if tag == \"NN\"]), axis = 1)\n",
    "df['num_propernoun'] = df.apply(lambda row: len([tag for tag in row.pos_tag if tag == \"NNP\"]), axis = 1)\n",
    "df['num_propernouns'] = df.apply(lambda row: len([tag for tag in row.pos_tag if tag == \"NNPS\"]), axis = 1)\n",
    "df['num_pronoun'] = df.apply(lambda row: len([tag for tag in row.pos_tag if tag == \"PRP\"]), axis = 1)\n",
    "df['num_posspronoun'] = df.apply(lambda row: len([tag for tag in row.pos_tag if tag == \"PRP$\"]), axis = 1)\n",
    "df['num_adjective'] = df.apply(lambda row: len([tag for tag in row.pos_tag if tag == \"JJ\"]), axis = 1)\n",
    "df['num_determiner'] = df.apply(lambda row: len([tag for tag in row.pos_tag if tag == \"DT\"]), axis = 1)\n",
    "df['num_preposition'] = df.apply(lambda row: len([tag for tag in row.pos_tag if tag == \"IN\"]), axis = 1)\n",
    "df['num_verb'] = df.apply(lambda row: len([tag for tag in row.pos_tag if tag == \"VB\"]), axis = 1)\n",
    "df['num_verbpast'] = df.apply(lambda row: len([tag for tag in row.pos_tag if tag == \"VBD\"]), axis = 1)\n",
    "df['num_verbgerund'] = df.apply(lambda row: len([tag for tag in row.pos_tag if tag == \"VBG\"]), axis = 1)\n",
    "df['num_verbpaspar'] = df.apply(lambda row: len([tag for tag in row.pos_tag if tag == \"VBN\"]), axis = 1)\n",
    "df['num_verbsingpres'] = df.apply(lambda row: len([tag for tag in row.pos_tag if tag == \"VBP\"]), axis = 1)\n",
    "df['num_verbthirdperson'] = df.apply(lambda row: len([tag for tag in row.pos_tag if tag == \"VBZ\"]), axis = 1)\n",
    "df['num_whdeterminer'] = df.apply(lambda row: len([tag for tag in row.pos_tag if tag == \"WDT\"]), axis = 1)\n",
    "df['num_whpronoun'] = df.apply(lambda row: len([tag for tag in row.pos_tag if tag == \"WP\"]), axis = 1)\n",
    "df['num_whpronoun'] = df.apply(lambda row: len([tag for tag in row.pos_tag if tag == \"WP\"]), axis = 1)\n",
    "df['num_whposspronoun'] = df.apply(lambda row: len([tag for tag in row.pos_tag if tag == \"WP$\"]), axis = 1)\n",
    "df['num_whadverb'] = df.apply(lambda row: len([tag for tag in row.pos_tag if tag == \"WRB\"]), axis = 1)\n",
    "df['num_adverb'] = df.apply(lambda row: len([tag for tag in row.pos_tag if tag == \"RB\"]), axis = 1)\n",
    "df['num_adverbcomp'] = df.apply(lambda row: len([tag for tag in row.pos_tag if tag == \"RBR\"]), axis = 1)\n",
    "df['num_adverbsuper'] = df.apply(lambda row: len([tag for tag in row.pos_tag if tag == \"RBS\"]), axis = 1)\n",
    "df['num_to'] = df.apply(lambda row: len([tag for tag in row.pos_tag if tag == \"TO\"]), axis = 1)\n",
    "df['num_possesive'] = df.apply(lambda row: len([tag for tag in row.pos_tag if tag == \"POS\"]), axis = 1)\n",
    "df['num_modal'] = df.apply(lambda row: len([tag for tag in row.pos_tag if tag == \"MD\"]), axis = 1)\n",
    "df['num_cardinal'] = df.apply(lambda row: len([tag for tag in row.pos_tag if tag == \"CD\"]), axis = 1)\n",
    "df['num_conjunction'] = df.apply(lambda row: len([tag for tag in row.pos_tag if tag == \"CC\"]), axis = 1)\n",
    "df['num_foreignword'] = df.apply(lambda row: len([tag for tag in row.pos_tag "
   ]
  },
  {
   "cell_type": "code",
   "execution_count": 6,
   "metadata": {},
   "outputs": [],
   "source": [
    "df.to_csv(\"features.csv\")"
   ]
  },
  {
   "cell_type": "markdown",
   "metadata": {},
   "source": [
    "<h3> Explore Data </h3>"
   ]
  },
  {
   "cell_type": "code",
   "execution_count": 48,
   "metadata": {},
   "outputs": [],
   "source": [
    "df_count = df.groupby(['id']).count().reset_index()[['id','tweet']]"
   ]
  },
  {
   "cell_type": "code",
   "execution_count": 49,
   "metadata": {},
   "outputs": [],
   "source": [
    "df_count.rename(columns={'tweet':'count_id'},inplace=True)"
   ]
  },
  {
   "cell_type": "code",
   "execution_count": 53,
   "metadata": {},
   "outputs": [
    {
     "data": {
      "image/png": "[encoded data removed]",
      "text/plain": [
       "<Figure size 576x288 with 1 Axes>"
      ]
     },
     "metadata": {},
     "output_type": "display_data"
    }
   ],
   "source": [
    "import seaborn as sns\n",
    "\n",
    "sns.set(rc={'figure.figsize':(8,4)})\n",
    "           \n",
    "# plot of 2 variables\n",
    "p1=sns.kdeplot(df_count['count_id'], shade=True, color=\"r\")\n",
    "# p1=sns.kdeplot(df['contradiction'], shade=True, color=\"b\")\n",
    "# p1=sns.kdeplot(df['neutral'], shade=True, color=\"c\")"
   ]
  },
  {
   "cell_type": "markdown",
   "metadata": {},
   "source": [
    "<h1 > Train Using Full Dataset </h1> "
   ]
  },
  {
   "cell_type": "markdown",
   "metadata": {},
   "source": [
    "<h3> Trial #1: kNN with 80% - 20% Train - Test proportion </h3>"
   ]
  },
  {
   "cell_type": "code",
   "execution_count": 128,
   "metadata": {},
   "outputs": [],
   "source": [
    "y = df['id'].astype(str)\n",
    "X = df.drop(columns=['id','tweet','pos_tag'])"
   ]
  },
  {
   "cell_type": "code",
   "execution_count": 136,
   "metadata": {},
   "outputs": [],
   "source": [
    "X_train, X_test, y_train, y_test = train_test_split(X,y,train_size=0.8)"
   ]
  },
  {
   "cell_type": "code",
   "execution_count": 137,
   "metadata": {},
   "outputs": [
    {
     "name": "stdout",
     "output_type": "stream",
     "text": [
      "size all: 328195\n",
      "size training data: 262556\n",
      "size test data: 65639\n"
     ]
    }
   ],
   "source": [
    "print(\"size all:\",len(X))\n",
    "print(\"size training data:\",len(X_train))\n",
    "print(\"size test data:\",len(X_test))"
   ]
  },
  {
   "cell_type": "code",
   "execution_count": 140,
   "metadata": {},
   "outputs": [
    {
     "data": {
      "text/plain": [
       "KNeighborsClassifier(algorithm='auto', leaf_size=30, metric='minkowski',\n",
       "                     metric_params=None, n_jobs=None, n_neighbors=3, p=2,\n",
       "                     weights='uniform')"
      ]
     },
     "execution_count": 140,
     "metadata": {},
     "output_type": "execute_result"
    }
   ],
   "source": [
    "clf1 = KNeighborsClassifier(n_neighbors=3)\n",
    "clf1.fit(X_train,y_train)"
   ]
  },
  {
   "cell_type": "code",
   "execution_count": 141,
   "metadata": {},
   "outputs": [
    {
     "name": "stdout",
     "output_type": "stream",
     "text": [
      "Accuracy Score: 0.051524246256036806\n"
     ]
    }
   ],
   "source": [
    "predictions1 = clf1.predict(X_test)\n",
    "accuracies = accuracy_score(y_test,predictions1)\n",
    "print(\"Accuracy Score:\",accuracies)"
   ]
  },
  {
   "cell_type": "code",
   "execution_count": 142,
   "metadata": {},
   "outputs": [
    {
     "name": "stderr",
     "output_type": "stream",
     "text": [
      "/Users/indah/anaconda3/lib/python3.7/site-packages/sklearn/metrics/classification.py:1437: UndefinedMetricWarning: Precision and F-score are ill-defined and being set to 0.0 in labels with no predicted samples.\n",
      "  'precision', 'predicted', average, warn_for)\n",
      "/Users/indah/anaconda3/lib/python3.7/site-packages/sklearn/metrics/classification.py:1439: UndefinedMetricWarning: Recall and F-score are ill-defined and being set to 0.0 in labels with no true samples.\n",
      "  'recall', 'true', average, warn_for)\n",
      "/Users/indah/anaconda3/lib/python3.7/site-packages/sklearn/metrics/classification.py:1437: UndefinedMetricWarning: Precision and F-score are ill-defined and being set to 0.0 in labels with no predicted samples.\n",
      "  'precision', 'predicted', average, warn_for)\n",
      "/Users/indah/anaconda3/lib/python3.7/site-packages/sklearn/metrics/classification.py:1439: UndefinedMetricWarning: Recall and F-score are ill-defined and being set to 0.0 in labels with no true samples.\n",
      "  'recall', 'true', average, warn_for)\n",
      "/Users/indah/anaconda3/lib/python3.7/site-packages/sklearn/metrics/classification.py:1437: UndefinedMetricWarning: Precision and F-score are ill-defined and being set to 0.0 in labels with no predicted samples.\n",
      "  'precision', 'predicted', average, warn_for)\n",
      "/Users/indah/anaconda3/lib/python3.7/site-packages/sklearn/metrics/classification.py:1439: UndefinedMetricWarning: Recall and F-score are ill-defined and being set to 0.0 in labels with no true samples.\n",
      "  'recall', 'true', average, warn_for)\n"
     ]
    }
   ],
   "source": [
    "results = classification_report(y_test,predictions1,output_dict=True)"
   ]
  },
  {
   "cell_type": "markdown",
   "metadata": {},
   "source": [
    "<h3> Get ID from kNN with f1-score > 0 </h3>"
   ]
  },
  {
   "cell_type": "code",
   "execution_count": 249,
   "metadata": {},
   "outputs": [
    {
     "name": "stdout",
     "output_type": "stream",
     "text": [
      "accuracy\n",
      "macro avg\n",
      "weighted avg\n"
     ]
    }
   ],
   "source": [
    "ids = list(results.keys())\n",
    "predicted_id = []\n",
    "for i in range(len(ids)):\n",
    "    try:\n",
    "        f1s = results[ids[i]]['f1-score']\n",
    "        if f1s > 0:\n",
    "            predicted_id.append(int(ids[i]))\n",
    "    except:\n",
    "        print(ids[i])\n",
    "        continue"
   ]
  },
  {
   "cell_type": "code",
   "execution_count": 251,
   "metadata": {},
   "outputs": [
    {
     "data": {
      "text/plain": [
       "1137"
      ]
     },
     "execution_count": 251,
     "metadata": {},
     "output_type": "execute_result"
    }
   ],
   "source": [
    "len(predicted_id)"
   ]
  },
  {
   "cell_type": "code",
   "execution_count": 252,
   "metadata": {},
   "outputs": [],
   "source": [
    "df_filter = df[df['id'].isin(predicted_id)]"
   ]
  },
  {
   "cell_type": "code",
   "execution_count": 253,
   "metadata": {},
   "outputs": [
    {
     "data": {
      "text/plain": [
       "(67038, 46)"
      ]
     },
     "execution_count": 253,
     "metadata": {},
     "output_type": "execute_result"
    }
   ],
   "source": [
    "df_filter.shape"
   ]
  },
  {
   "cell_type": "code",
   "execution_count": 254,
   "metadata": {},
   "outputs": [],
   "source": [
    "df_count1 = df_filter.groupby(['id']).count().reset_index()[['id','tweet']]"
   ]
  },
  {
   "cell_type": "code",
   "execution_count": 255,
   "metadata": {},
   "outputs": [],
   "source": [
    "df_count1.rename(columns={'tweet':'count_id'},inplace=True)"
   ]
  },
  {
   "cell_type": "code",
   "execution_count": 256,
   "metadata": {},
   "outputs": [
    {
     "data": {
      "image/png": "[encoded data removed]",
      "text/plain": [
       "<Figure size 576x288 with 1 Axes>"
      ]
     },
     "metadata": {},
     "output_type": "display_data"
    }
   ],
   "source": [
    "sns.set(rc={'figure.figsize':(8,4)})\n",
    "p1=sns.kdeplot(df_count1['count_id'], shade=True, color=\"r\")\n"
   ]
  },
  {
   "cell_type": "markdown",
   "metadata": {},
   "source": [
    "<h3> Trial #2: kNN with Filtered ID </h3>"
   ]
  },
  {
   "cell_type": "code",
   "execution_count": 257,
   "metadata": {},
   "outputs": [
    {
     "name": "stdout",
     "output_type": "stream",
     "text": [
      "size all: 67038\n",
      "size training data: 53630\n",
      "size test data: 13408\n"
     ]
    }
   ],
   "source": [
    "y1 = df_filter['id'].astype(str)\n",
    "X1 = df_filter.drop(columns=['id','tweet','pos_tag'])\n",
    "X1_train, X1_test, y1_train, y1_test = train_test_split(X1,y1,train_size=0.8)\n",
    "print(\"size all:\",len(X1))\n",
    "print(\"size training data:\",len(X1_train))\n",
    "print(\"size test data:\",len(X1_test))"
   ]
  },
  {
   "cell_type": "code",
   "execution_count": 258,
   "metadata": {},
   "outputs": [
    {
     "data": {
      "text/plain": [
       "KNeighborsClassifier(algorithm='auto', leaf_size=30, metric='minkowski',\n",
       "                     metric_params=None, n_jobs=None, n_neighbors=3, p=2,\n",
       "                     weights='uniform')"
      ]
     },
     "execution_count": 258,
     "metadata": {},
     "output_type": "execute_result"
    }
   ],
   "source": [
    "clf2 = KNeighborsClassifier(n_neighbors=3)\n",
    "clf2.fit(X1_train,y1_train)"
   ]
  },
  {
   "cell_type": "code",
   "execution_count": 259,
   "metadata": {},
   "outputs": [
    {
     "name": "stdout",
     "output_type": "stream",
     "text": [
      "Accuracy Score: 0.24776252983293556\n"
     ]
    }
   ],
   "source": [
    "predictions2 = clf2.predict(X1_test)\n",
    "accuracies2 = accuracy_score(y1_test,predictions2)\n",
    "print(\"Accuracy Score:\",accuracies2)"
   ]
  },
  {
   "cell_type": "code",
   "execution_count": 260,
   "metadata": {},
   "outputs": [
    {
     "name": "stdout",
     "output_type": "stream",
     "text": [
      "Accuracy Score: 0.10192111397187648\n"
     ]
    }
   ],
   "source": [
    "predictions2_ = clf2.predict(X_test)\n",
    "accuracies2_ = accuracy_score(y_test,predictions2_)\n",
    "print(\"Accuracy Score:\",accuracies2_)"
   ]
  },
  {
   "cell_type": "markdown",
   "metadata": {},
   "source": [
    "<h3> Trial #3: Ridge Regression </h3>"
   ]
  },
  {
   "cell_type": "code",
   "execution_count": 188,
   "metadata": {},
   "outputs": [],
   "source": [
    "from sklearn.linear_model import RidgeClassifier"
   ]
  },
  {
   "cell_type": "code",
   "execution_count": 189,
   "metadata": {},
   "outputs": [
    {
     "data": {
      "text/plain": [
       "RidgeClassifier(alpha=1.0, class_weight=None, copy_X=True, fit_intercept=True,\n",
       "                max_iter=None, normalize=False, random_state=None,\n",
       "                solver='auto', tol=0.001)"
      ]
     },
     "execution_count": 189,
     "metadata": {},
     "output_type": "execute_result"
    }
   ],
   "source": [
    "clf3 = RidgeClassifier()\n",
    "clf3.fit(X1_train, y1_train)"
   ]
  },
  {
   "cell_type": "code",
   "execution_count": 190,
   "metadata": {},
   "outputs": [
    {
     "name": "stdout",
     "output_type": "stream",
     "text": [
      "Accuracy Score: 0.14832347140039448\n"
     ]
    }
   ],
   "source": [
    "predictions3 = clf3.predict(X1_test)\n",
    "accuracies3 = accuracy_score(y1_test,predictions3)\n",
    "print(\"Accuracy Score:\",accuracies3)"
   ]
  },
  {
   "cell_type": "code",
   "execution_count": 191,
   "metadata": {},
   "outputs": [
    {
     "name": "stdout",
     "output_type": "stream",
     "text": [
      "Accuracy Score: 0.012675391154648913\n"
     ]
    }
   ],
   "source": [
    "predictions3_ = clf3.predict(X_test)\n",
    "accuracies3_ = accuracy_score(y_test,predictions3_)\n",
    "print(\"Accuracy Score:\",accuracies3_)"
   ]
  },
  {
   "cell_type": "markdown",
   "metadata": {},
   "source": [
    "<h3> Trial #4: SVM one vs all </h3>"
   ]
  },
  {
   "cell_type": "code",
   "execution_count": 194,
   "metadata": {},
   "outputs": [],
   "source": [
    "from sklearn.svm import SVC"
   ]
  },
  {
   "cell_type": "code",
   "execution_count": 261,
   "metadata": {},
   "outputs": [
    {
     "data": {
      "text/plain": [
       "SVC(C=1.0, cache_size=200, class_weight=None, coef0=0.0,\n",
       "    decision_function_shape='ovr', degree=3, gamma='auto', kernel='rbf',\n",
       "    max_iter=-1, probability=False, random_state=None, shrinking=True,\n",
       "    tol=0.001, verbose=False)"
      ]
     },
     "execution_count": 261,
     "metadata": {},
     "output_type": "execute_result"
    }
   ],
   "source": [
    "clf4 = SVC(gamma='auto')\n",
    "clf4.fit(X1_train, y1_train)"
   ]
  },
  {
   "cell_type": "code",
   "execution_count": 262,
   "metadata": {},
   "outputs": [
    {
     "name": "stdout",
     "output_type": "stream",
     "text": [
      "Accuracy Score: 0.27804295942720764\n"
     ]
    }
   ],
   "source": [
    "predictions4 = clf4.predict(X1_test)\n",
    "accuracies4 = accuracy_score(y1_test,predictions4)\n",
    "print(\"Accuracy Score:\",accuracies4)"
   ]
  },
  {
   "cell_type": "code",
   "execution_count": 197,
   "metadata": {},
   "outputs": [
    {
     "name": "stdout",
     "output_type": "stream",
     "text": [
      "Accuracy Score: 0.05772482822712107\n"
     ]
    }
   ],
   "source": [
    "predictions4_ = clf4.predict(X_test)\n",
    "accuracies4_ = accuracy_score(y_test,predictions4_)\n",
    "print(\"Accuracy Score:\",accuracies4_)"
   ]
  },
  {
   "cell_type": "markdown",
   "metadata": {},
   "source": [
    "<h3> Test on Real Test Set </h3>"
   ]
  },
  {
   "cell_type": "code",
   "execution_count": 228,
   "metadata": {},
   "outputs": [
    {
     "name": "stderr",
     "output_type": "stream",
     "text": [
      "/Users/indah/anaconda3/lib/python3.7/site-packages/ipykernel_launcher.py:2: ParserWarning: Falling back to the 'python' engine because the 'c' engine does not support regex separators (separators > 1 char and different from '\\s+' are interpreted as regex); you can avoid this warning by specifying engine='python'.\n",
      "  \n"
     ]
    }
   ],
   "source": [
    "path2 = \"test_tweets_unlabeled.txt\"\n",
    "df_test = pd.read_csv(path2,delimiter=\"\\r\\t\", header = None)\n",
    "df_test.rename(columns={0:'tweet'},inplace=True)"
   ]
  },
  {
   "cell_type": "code",
   "execution_count": 230,
   "metadata": {},
   "outputs": [],
   "source": [
    "df_test['mention'] = df_test.apply(lambda row: 1 if '@handle' in row.tweet else 0, axis = 1)\n",
    "df_test['retweet'] = df_test.apply(lambda row: 1 if row.tweet[0:2] == 'RT' else 0, axis = 1)\n",
    "df_test['http'] = df_test.apply(lambda row: 1 if re.findall('https?:\\/\\/.*[\\r\\n]*',row.tweet) != [] else 0, axis = 1)\n",
    "df_test['len_char'] = df_test.apply(lambda row: len(row.tweet), axis = 1)\n",
    "df_test['len_words'] = df_test.apply(lambda row: len(row.tweet.split()), axis = 1)\n",
    "df_test['unique_words'] = df_test.apply(lambda row: len(set(row.tweet.lower().split())), axis = 1)\n",
    "df_test['num_dots'] = df_test.apply(lambda row: len(re.findall('\\.',row.tweet)), axis = 1)\n",
    "df_test['num_comma'] = df_test.apply(lambda row: len(re.findall(',',row.tweet)), axis = 1)\n",
    "df_test['num_exclamation'] = df_test.apply(lambda row: len(re.findall('!',row.tweet)), axis = 1)\n",
    "df_test['num_colon'] = df_test.apply(lambda row: len(re.findall(':',row.tweet)), axis = 1)\n",
    "df_test['num_semicolon'] = df_test.apply(lambda row: len(re.findall(';',row.tweet)), axis = 1)\n",
    "df_test['num_question'] = df_test.apply(lambda row: len(re.findall('\\?',row.tweet)), axis = 1)\n",
    "df_test['num_capital'] = df_test.apply(lambda row: len(re.findall('[A-Z]',row.tweet)), axis = 1)\n",
    "df_test['num_hashtag'] = df_test.apply(lambda row: len(re.findall('#(.)+',row.tweet)), axis = 1)\n",
    "df_test['num_stopwords'] = df_test.apply(lambda row: len([w for w in row.tweet.lower().split() if w in stopwords.words('english')]), axis = 1)\n",
    "df_test['pos_tag'] = df_test.apply(lambda row: [tag[1] for tag in nltk.pos_tag(nltk.word_tokenize(row.tweet))], axis = 1)\n",
    "df_test['num_pos'] = df_test.apply(lambda row: len(set(row.pos_tag)), axis = 1)\n",
    "df_test['num_noun'] = df_test.apply(lambda row: len([tag for tag in row.pos_tag if tag == \"NN\"]), axis = 1)\n",
    "df_test['num_propernoun'] = df_test.apply(lambda row: len([tag for tag in row.pos_tag if tag == \"NNP\"]), axis = 1)\n",
    "df_test['num_propernouns'] = df_test.apply(lambda row: len([tag for tag in row.pos_tag if tag == \"NNPS\"]), axis = 1)\n",
    "df_test['num_pronoun'] = df_test.apply(lambda row: len([tag for tag in row.pos_tag if tag == \"PRP\"]), axis = 1)\n",
    "df_test['num_posspronoun'] = df_test.apply(lambda row: len([tag for tag in row.pos_tag if tag == \"PRP$\"]), axis = 1)\n",
    "df_test['num_adjective'] = df_test.apply(lambda row: len([tag for tag in row.pos_tag if tag == \"JJ\"]), axis = 1)\n",
    "df_test['num_determiner'] = df_test.apply(lambda row: len([tag for tag in row.pos_tag if tag == \"DT\"]), axis = 1)\n",
    "df_test['num_preposition'] = df_test.apply(lambda row: len([tag for tag in row.pos_tag if tag == \"IN\"]), axis = 1)\n",
    "df_test['num_verb'] = df_test.apply(lambda row: len([tag for tag in row.pos_tag if tag == \"VB\"]), axis = 1)\n",
    "df_test['num_verbpast'] = df_test.apply(lambda row: len([tag for tag in row.pos_tag if tag == \"VBD\"]), axis = 1)\n",
    "df_test['num_verbgerund'] = df_test.apply(lambda row: len([tag for tag in row.pos_tag if tag == \"VBG\"]), axis = 1)\n",
    "df_test['num_verbpaspar'] = df_test.apply(lambda row: len([tag for tag in row.pos_tag if tag == \"VBN\"]), axis = 1)\n",
    "df_test['num_verbsingpres'] = df_test.apply(lambda row: len([tag for tag in row.pos_tag if tag == \"VBP\"]), axis = 1)\n",
    "df_test['num_verbthirdperson'] = df_test.apply(lambda row: len([tag for tag in row.pos_tag if tag == \"VBZ\"]), axis = 1)\n",
    "df_test['num_whdeterminer'] = df_test.apply(lambda row: len([tag for tag in row.pos_tag if tag == \"WDT\"]), axis = 1)\n",
    "df_test['num_whpronoun'] = df_test.apply(lambda row: len([tag for tag in row.pos_tag if tag == \"WP\"]), axis = 1)\n",
    "df_test['num_whpronoun'] = df_test.apply(lambda row: len([tag for tag in row.pos_tag if tag == \"WP\"]), axis = 1)\n",
    "df_test['num_whposspronoun'] = df_test.apply(lambda row: len([tag for tag in row.pos_tag if tag == \"WP$\"]), axis = 1)\n",
    "df_test['num_whadverb'] = df_test.apply(lambda row: len([tag for tag in row.pos_tag if tag == \"WRB\"]), axis = 1)\n",
    "df_test['num_adverb'] = df_test.apply(lambda row: len([tag for tag in row.pos_tag if tag == \"RB\"]), axis = 1)\n",
    "df_test['num_adverbcomp'] = df_test.apply(lambda row: len([tag for tag in row.pos_tag if tag == \"RBR\"]), axis = 1)\n",
    "df_test['num_adverbsuper'] = df_test.apply(lambda row: len([tag for tag in row.pos_tag if tag == \"RBS\"]), axis = 1)\n",
    "df_test['num_to'] = df_test.apply(lambda row: len([tag for tag in row.pos_tag if tag == \"TO\"]), axis = 1)\n",
    "df_test['num_possesive'] = df_test.apply(lambda row: len([tag for tag in row.pos_tag if tag == \"POS\"]), axis = 1)\n",
    "df_test['num_modal'] = df_test.apply(lambda row: len([tag for tag in row.pos_tag if tag == \"MD\"]), axis = 1)\n",
    "df_test['num_cardinal'] = df_test.apply(lambda row: len([tag for tag in row.pos_tag if tag == \"CD\"]), axis = 1)\n",
    "df_test['num_conjunction'] = df_test.apply(lambda row: len([tag for tag in row.pos_tag if tag == \"CC\"]), axis = 1)\n",
    "df_test['num_foreignword'] = df_test.apply(lambda row: len([tag for tag in row.pos_tag if tag == \"FW\"]), axis = 1)"
   ]
  },
  {
   "cell_type": "code",
   "execution_count": 232,
   "metadata": {},
   "outputs": [],
   "source": [
    "X_acttest = df_test.drop(columns=['tweet','pos_tag'])"
   ]
  },
  {
   "cell_type": "code",
   "execution_count": 263,
   "metadata": {},
   "outputs": [],
   "source": [
    "predictions_test = clf4.predict(X_acttest)"
   ]
  },
  {
   "cell_type": "code",
   "execution_count": 264,
   "metadata": {},
   "outputs": [],
   "source": [
    "df_result = pd.DataFrame(predictions_test)\n",
    "df_result.index = df_result.index + 1\n",
    "df_result = df_result.reset_index()\n",
    "df_result.rename(columns={'index':'Id',0:'Predicted'},inplace=True)"
   ]
  },
  {
   "cell_type": "code",
   "execution_count": 265,
   "metadata": {},
   "outputs": [],
   "source": [
    "df_result[['Id','Predicted']].to_csv(\"result1.csv\")"
   ]
  },
  {
   "cell_type": "markdown",
   "metadata": {},
   "source": [
    "<h3> Trial #mess: Undersampling </h3>"
   ]
  },
  {
   "cell_type": "code",
   "execution_count": 96,
   "metadata": {},
   "outputs": [],
   "source": [
    "undersampling = RandomUnderSampler(random_state=0)\n",
    "X_undersampling, y_undersampling = undersampling.fit_resample(X, y)\n"
   ]
  },
  {
   "cell_type": "code",
   "execution_count": 97,
   "metadata": {},
   "outputs": [
    {
     "data": {
      "text/plain": [
       "(89680, 44)"
      ]
     },
     "execution_count": 97,
     "metadata": {},
     "output_type": "execute_result"
    }
   ],
   "source": [
    "X_undersampling.shape"
   ]
  },
  {
   "cell_type": "code",
   "execution_count": 100,
   "metadata": {},
   "outputs": [],
   "source": [
    "df_X = pd.DataFrame(X_undersampling)"
   ]
  },
  {
   "cell_type": "code",
   "execution_count": 105,
   "metadata": {},
   "outputs": [],
   "source": [
    "df_count1 = df_X.groupby([0]).count().reset_index()[[0,1]]"
   ]
  },
  {
   "cell_type": "code",
   "execution_count": 112,
   "metadata": {},
   "outputs": [],
   "source": [
    "Xu = df_X.drop(columns=[0])"
   ]
  },
  {
   "cell_type": "code",
   "execution_count": 113,
   "metadata": {},
   "outputs": [],
   "source": [
    "X_train, X_test, y_train, y_test = train_test_split(Xu,y_undersampling,train_size=0.8)"
   ]
  },
  {
   "cell_type": "code",
   "execution_count": 114,
   "metadata": {},
   "outputs": [
    {
     "name": "stdout",
     "output_type": "stream",
     "text": [
      "size all: 89680\n",
      "size training data: 71744\n",
      "size test data: 17936\n"
     ]
    }
   ],
   "source": [
    "print(\"size all:\",len(Xu))\n",
    "print(\"size training data:\",len(X_train))\n",
    "print(\"size test data:\",len(X_test))"
   ]
  },
  {
   "cell_type": "code",
   "execution_count": 115,
   "metadata": {},
   "outputs": [
    {
     "data": {
      "text/plain": [
       "KNeighborsClassifier(algorithm='auto', leaf_size=30, metric='minkowski',\n",
       "                     metric_params=None, n_jobs=None, n_neighbors=3, p=2,\n",
       "                     weights='uniform')"
      ]
     },
     "execution_count": 115,
     "metadata": {},
     "output_type": "execute_result"
    }
   ],
   "source": [
    "clf = KNeighborsClassifier(n_neighbors=3)\n",
    "clf.fit(X_train,y_train)"
   ]
  },
  {
   "cell_type": "code",
   "execution_count": 116,
   "metadata": {},
   "outputs": [],
   "source": [
    "predictions = clf.predict(X_test)"
   ]
  },
  {
   "cell_type": "code",
   "execution_count": 117,
   "metadata": {},
   "outputs": [
    {
     "data": {
      "text/plain": [
       "0.0211864406779661"
      ]
     },
     "execution_count": 117,
     "metadata": {},
     "output_type": "execute_result"
    }
   ],
   "source": [
    "accuracies = accuracy_score(y_test,predictions)\n",
    "accuracies"
   ]
  },
  {
   "cell_type": "code",
   "execution_count": 236,
   "metadata": {},
   "outputs": [
    {
     "data": {
      "text/plain": [
       "0.05275826871219854"
      ]
     },
     "execution_count": 236,
     "metadata": {},
     "output_type": "execute_result"
    }
   ],
   "source": [
    "accuracies = accuracy_score(y_test,predictions)\n",
    "accuracies"
   ]
  },
  {
   "cell_type": "code",
   "execution_count": 119,
   "metadata": {},
   "outputs": [
    {
     "data": {
      "text/plain": [
       "MLPClassifier(activation='relu', alpha=1e-05, batch_size='auto', beta_1=0.9,\n",
       "              beta_2=0.999, early_stopping=False, epsilon=1e-08,\n",
       "              hidden_layer_sizes=10, learning_rate='constant',\n",
       "              learning_rate_init=0.001, max_iter=200, momentum=0.9,\n",
       "              n_iter_no_change=10, nesterovs_momentum=True, power_t=0.5,\n",
       "              random_state=1, shuffle=True, solver='lbfgs', tol=0.0001,\n",
       "              validation_fraction=0.1, verbose=False, warm_start=False)"
      ]
     },
     "execution_count": 119,
     "metadata": {},
     "output_type": "execute_result"
    }
   ],
   "source": [
    "clf1 = MLPClassifier(solver='lbfgs', alpha=1e-5,hidden_layer_sizes=(10), random_state=1)\n",
    "clf1.fit(X_train,y_train)"
   ]
  },
  {
   "cell_type": "code",
   "execution_count": 120,
   "metadata": {},
   "outputs": [],
   "source": [
    "predictions = clf1.predict(X_test)"
   ]
  },
  {
   "cell_type": "code",
   "execution_count": 121,
   "metadata": {},
   "outputs": [
    {
     "data": {
      "text/plain": [
       "0.00011150758251561107"
      ]
     },
     "execution_count": 121,
     "metadata": {},
     "output_type": "execute_result"
    }
   ],
   "source": [
    "accuracies = accuracy_score(y_test,predictions)\n",
    "accuracies"
   ]
  },
  {
   "cell_type": "code",
   "execution_count": 226,
   "metadata": {},
   "outputs": [],
   "source": [
    "df_input_test = df_test.copy()\n",
    "df_input_test = df_input_test.drop(columns=['tweet','pos_tag'])"
   ]
  }
 ],
 "metadata": {
  "kernelspec": {
   "display_name": "Python 3",
   "language": "python",
   "name": "python3"
  },
  "language_info": {
   "codemirror_mode": {
    "name": "ipython",
    "version": 3
   },
   "file_extension": ".py",
   "mimetype": "text/x-python",
   "name": "python",
   "nbconvert_exporter": "python",
   "pygments_lexer": "ipython3",
   "version": "3.7.2"
  }
 },
 "nbformat": 4,
 "nbformat_minor": 2
}
